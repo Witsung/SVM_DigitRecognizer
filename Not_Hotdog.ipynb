{
 "cells": [
  {
   "cell_type": "code",
   "execution_count": 4,
   "metadata": {},
   "outputs": [],
   "source": [
    "from keras.preprocessing.image import ImageDataGenerator\n",
    "from keras.models import Sequential\n",
    "from keras.layers import Conv2D, MaxPooling2D\n",
    "from keras.layers import Activation, Dropout, Flatten, Dense\n",
    "from keras import backend as K\n",
    "from keras.optimizers import RMSprop\n",
    "from keras.callbacks import EarlyStopping\n",
    "import matplotlib.pyplot as plt\n",
    "from keras.models import load_model"
   ]
  },
  {
   "cell_type": "code",
   "execution_count": 5,
   "metadata": {},
   "outputs": [],
   "source": [
    "img_width, img_height = 150, 150\n",
    "\n",
    "train_data_dir = '/train'\n",
    "validation_data_dir = '/validation'\n",
    "\n",
    "nb_train_samples = 2678\n",
    "nb_validation_samples = 300\n",
    "epochs = 50\n",
    "batch_size = 15\n",
    "\n",
    "\n",
    "\n",
    "if K.image_data_format() == 'channels_first':\n",
    "    input_shape = (3, img_width, img_height)\n",
    "else:\n",
    "    input_shape = (img_width, img_height, 3)"
   ]
  },
  {
   "cell_type": "code",
   "execution_count": 6,
   "metadata": {},
   "outputs": [],
   "source": [
    "model = Sequential()\n",
    "model.add(Conv2D(32, (2, 2), activation='relu', input_shape=input_shape))\n",
    "model.add(MaxPooling2D(pool_size=(2, 2)))\n",
    "\n",
    "model.add(Conv2D(32, (2, 2), activation='relu'))\n",
    "model.add(MaxPooling2D(pool_size=(2, 2)))\n",
    "\n",
    "model.add(Conv2D(32, (2, 2), activation='relu'))\n",
    "\n",
    "model.add(Conv2D(64, (2, 2), activation='relu'))\n",
    "\n",
    "model.add(Conv2D(128, (2, 2), activation='relu'))\n",
    "model.add(MaxPooling2D(pool_size=(3, 3)))\n",
    "\n",
    "model.add(Flatten())\n",
    "model.add(Dense(128))\n",
    "model.add(Activation('relu'))\n",
    "model.add(Dropout(0.5))\n",
    "model.add(Dense(1, activation = 'sigmoid'))\n",
    "\n",
    "#optimizer = RMSprop(lr=0.001, rho=0.9, epsilon=1e-08, decay=0.0)\n",
    "\n",
    "model.compile(loss='binary_crossentropy',\n",
    "              optimizer = 'adam',\n",
    "              metrics=['accuracy'])\n",
    "\n",
    "early_stopping_monitor = EarlyStopping(patience = 5)"
   ]
  },
  {
   "cell_type": "code",
   "execution_count": 7,
   "metadata": {},
   "outputs": [
    {
     "name": "stdout",
     "output_type": "stream",
     "text": [
      "Found 2678 images belonging to 2 classes.\n",
      "Found 300 images belonging to 2 classes.\n"
     ]
    }
   ],
   "source": [
    "train_datagen = ImageDataGenerator(\n",
    "    rescale=1. / 255,\n",
    "    shear_range=0.2,\n",
    "    height_shift_range = 0.3,\n",
    "    width_shift_range=0.2,\n",
    "    rotation_range=3,\n",
    "    zoom_range=[0.2, 0.6],\n",
    "    horizontal_flip=True,\n",
    "    vertical_flip=True\n",
    ")\n",
    "\n",
    "test_datagen = ImageDataGenerator(\n",
    "     rescale=1. / 255,\n",
    "    shear_range=0.2,\n",
    "    height_shift_range = 0.3,\n",
    "    width_shift_range=0.2,\n",
    "    rotation_range=3,\n",
    "    zoom_range=[0.2, 0.6],\n",
    "    horizontal_flip=True,\n",
    "    vertical_flip=True)\n",
    "\n",
    "train_generator = train_datagen.flow_from_directory(\n",
    "    train_data_dir,\n",
    "    target_size=(img_width, img_height),\n",
    "    batch_size=batch_size,\n",
    "    class_mode='binary')\n",
    "\n",
    "validation_generator = test_datagen.flow_from_directory(\n",
    "    validation_data_dir,\n",
    "    target_size=(img_width, img_height),\n",
    "    batch_size=batch_size,\n",
    "    class_mode='binary')"
   ]
  },
  {
   "cell_type": "code",
   "execution_count": 8,
   "metadata": {},
   "outputs": [
    {
     "name": "stdout",
     "output_type": "stream",
     "text": [
      "Epoch 1/50\n",
      "178/178 [==============================] - 90s 507ms/step - loss: 0.6773 - acc: 0.6111 - val_loss: 0.6508 - val_acc: 0.6233\n",
      "Epoch 2/50\n",
      "178/178 [==============================] - 86s 483ms/step - loss: 0.6494 - acc: 0.6331 - val_loss: 0.6003 - val_acc: 0.7033\n",
      "Epoch 3/50\n",
      "178/178 [==============================] - 82s 460ms/step - loss: 0.6314 - acc: 0.6607 - val_loss: 0.5897 - val_acc: 0.7133\n",
      "Epoch 4/50\n",
      "178/178 [==============================] - 78s 441ms/step - loss: 0.6128 - acc: 0.6817 - val_loss: 0.5688 - val_acc: 0.7067\n",
      "Epoch 5/50\n",
      "178/178 [==============================] - 79s 441ms/step - loss: 0.6003 - acc: 0.6781 - val_loss: 0.5561 - val_acc: 0.7467\n",
      "Epoch 6/50\n",
      "178/178 [==============================] - 88s 494ms/step - loss: 0.5756 - acc: 0.7146 - val_loss: 0.5067 - val_acc: 0.7467\n",
      "Epoch 7/50\n",
      "178/178 [==============================] - 89s 498ms/step - loss: 0.5387 - acc: 0.7525 - val_loss: 0.4990 - val_acc: 0.7833\n",
      "Epoch 8/50\n",
      "178/178 [==============================] - 97s 544ms/step - loss: 0.5207 - acc: 0.7574 - val_loss: 0.4972 - val_acc: 0.8067\n",
      "Epoch 9/50\n",
      "178/178 [==============================] - 93s 523ms/step - loss: 0.5226 - acc: 0.7540 - val_loss: 0.5007 - val_acc: 0.7900\n",
      "Epoch 10/50\n",
      "178/178 [==============================] - 84s 471ms/step - loss: 0.5045 - acc: 0.7731 - val_loss: 0.5323 - val_acc: 0.7433\n",
      "Epoch 11/50\n",
      "178/178 [==============================] - 84s 475ms/step - loss: 0.5074 - acc: 0.7676 - val_loss: 0.4701 - val_acc: 0.8133\n",
      "Epoch 12/50\n",
      "178/178 [==============================] - 86s 484ms/step - loss: 0.4817 - acc: 0.7900 - val_loss: 0.4331 - val_acc: 0.8200\n",
      "Epoch 13/50\n",
      "178/178 [==============================] - 85s 478ms/step - loss: 0.4779 - acc: 0.7873 - val_loss: 0.4248 - val_acc: 0.8200\n",
      "Epoch 14/50\n",
      "178/178 [==============================] - 95s 531ms/step - loss: 0.4890 - acc: 0.7851 - val_loss: 0.3844 - val_acc: 0.8333\n",
      "Epoch 15/50\n",
      "178/178 [==============================] - 94s 525ms/step - loss: 0.4461 - acc: 0.8068 - val_loss: 0.3696 - val_acc: 0.8567\n",
      "Epoch 16/50\n",
      "178/178 [==============================] - 98s 549ms/step - loss: 0.4700 - acc: 0.7971 - val_loss: 0.4149 - val_acc: 0.7967\n",
      "Epoch 17/50\n",
      "178/178 [==============================] - 82s 458ms/step - loss: 0.4601 - acc: 0.8000 - val_loss: 0.3941 - val_acc: 0.8400\n",
      "Epoch 18/50\n",
      "178/178 [==============================] - 83s 468ms/step - loss: 0.4463 - acc: 0.8098 - val_loss: 0.4237 - val_acc: 0.8033\n",
      "Epoch 19/50\n",
      "178/178 [==============================] - 83s 464ms/step - loss: 0.4285 - acc: 0.8105 - val_loss: 0.4217 - val_acc: 0.8233\n",
      "Epoch 20/50\n",
      "178/178 [==============================] - 84s 470ms/step - loss: 0.4261 - acc: 0.8207 - val_loss: 0.4180 - val_acc: 0.7933\n"
     ]
    }
   ],
   "source": [
    "model_train_history = model.fit_generator(\n",
    "    train_generator,\n",
    "    steps_per_epoch=nb_train_samples // batch_size,\n",
    "    epochs=epochs,\n",
    "    validation_data=validation_generator,\n",
    "    validation_steps=nb_validation_samples // batch_size,\n",
    "    callbacks=[early_stopping_monitor])\n",
    "\n",
    "model.save('5th_try.h5')"
   ]
  },
  {
   "cell_type": "code",
   "execution_count": 10,
   "metadata": {},
   "outputs": [
    {
     "data": {
      "image/png": "[encoded data removed]",
      "text/plain": [
       "<matplotlib.figure.Figure at 0x1f1780f8eb8>"
      ]
     },
     "metadata": {},
     "output_type": "display_data"
    }
   ],
   "source": [
    "plt.plot(model_train_history.history['val_loss'], 'r', model_train_history.history['loss'], 'b')\n",
    "plt.xlabel('Epochs')\n",
    "plt.ylabel('Validation score')\n",
    "plt.show()"
   ]
  },
  {
   "cell_type": "code",
   "execution_count": 11,
   "metadata": {
    "scrolled": true
   },
   "outputs": [
    {
     "data": {
      "image/png": "[encoded data removed]",
      "text/plain": [
       "<matplotlib.figure.Figure at 0x1f100dc66d8>"
      ]
     },
     "metadata": {},
     "output_type": "display_data"
    }
   ],
   "source": [
    "plt.plot(model_train_history.history['val_acc'], 'r', model_train_history.history['acc'], 'b')\n",
    "plt.xlabel('Epochs')\n",
    "plt.ylabel('Accuracy')\n",
    "plt.show()"
   ]
  },
  {
   "cell_type": "code",
   "execution_count": 1,
   "metadata": {},
   "outputs": [
    {
     "name": "stderr",
     "output_type": "stream",
     "text": [
      "C:\\Users\\InfluencerDB\\Anaconda3\\lib\\site-packages\\h5py\\__init__.py:36: FutureWarning: Conversion of the second argument of issubdtype from `float` to `np.floating` is deprecated. In future, it will be treated as `np.float64 == np.dtype(float).type`.\n",
      "  from ._conv import register_converters as _register_converters\n",
      "Using TensorFlow backend.\n"
     ]
    }
   ],
   "source": [
    "from keras.models import load_model\n",
    "model = load_model('5th_try.h5')"
   ]
  },
  {
   "cell_type": "code",
   "execution_count": 3,
   "metadata": {},
   "outputs": [
    {
     "name": "stdout",
     "output_type": "stream",
     "text": [
      "_________________________________________________________________\n",
      "Layer (type)                 Output Shape              Param #   \n",
      "=================================================================\n",
      "conv2d_1 (Conv2D)            (None, 149, 149, 32)      416       \n",
      "_________________________________________________________________\n",
      "max_pooling2d_1 (MaxPooling2 (None, 74, 74, 32)        0         \n",
      "_________________________________________________________________\n",
      "conv2d_2 (Conv2D)            (None, 73, 73, 32)        4128      \n",
      "_________________________________________________________________\n",
      "max_pooling2d_2 (MaxPooling2 (None, 36, 36, 32)        0         \n",
      "_________________________________________________________________\n",
      "conv2d_3 (Conv2D)            (None, 35, 35, 32)        4128      \n",
      "_________________________________________________________________\n",
      "conv2d_4 (Conv2D)            (None, 34, 34, 64)        8256      \n",
      "_________________________________________________________________\n",
      "conv2d_5 (Conv2D)            (None, 33, 33, 128)       32896     \n",
      "_________________________________________________________________\n",
      "max_pooling2d_3 (MaxPooling2 (None, 11, 11, 128)       0         \n",
      "_________________________________________________________________\n",
      "flatten_1 (Flatten)          (None, 15488)             0         \n",
      "_________________________________________________________________\n",
      "dense_1 (Dense)              (None, 128)               1982592   \n",
      "_________________________________________________________________\n",
      "activation_1 (Activation)    (None, 128)               0         \n",
      "_________________________________________________________________\n",
      "dropout_1 (Dropout)          (None, 128)               0         \n",
      "_________________________________________________________________\n",
      "dense_2 (Dense)              (None, 1)                 129       \n",
      "=================================================================\n",
      "Total params: 2,032,545\n",
      "Trainable params: 2,032,545\n",
      "Non-trainable params: 0\n",
      "_________________________________________________________________\n"
     ]
    }
   ],
   "source": [
    "model.summary()"
   ]
  },
  {
   "cell_type": "code",
   "execution_count": null,
   "metadata": {},
   "outputs": [],
   "source": []
  }
 ],
 "metadata": {
  "kernelspec": {
   "display_name": "Python 3",
   "language": "python",
   "name": "python3"
  },
  "language_info": {
   "codemirror_mode": {
    "name": "ipython",
    "version": 3
   },
   "file_extension": ".py",
   "mimetype": "text/x-python",
   "name": "python",
   "nbconvert_exporter": "python",
   "pygments_lexer": "ipython3",
   "version": "3.6.4"
  }
 },
 "nbformat": 4,
 "nbformat_minor": 2
}
